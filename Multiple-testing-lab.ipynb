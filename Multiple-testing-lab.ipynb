{
 "cells": [
  {
   "cell_type": "markdown",
   "id": "8a248d50-a2c0-4f14-8426-ddf0044524ba",
   "metadata": {},
   "source": [
    "<div style=\"text-align: right;\">\n",
    "    <img src=\"logo.webp\" alt=\"Logo\" width=\"200\"/>\n",
    "</div>\n",
    "<p style=\"font-size: 50px; text-align: center;\">Multiple Testing</p>\n"
   ]
  },
  {
   "cell_type": "markdown",
   "id": "7da8c992-338d-4f14-a582-5bf8cfc97833",
   "metadata": {},
   "source": [
    "### Purpose"
   ]
  },
  {
   "cell_type": "markdown",
   "id": "a33f2f2d-9e01-4da2-b1f1-5dcc7082a5b6",
   "metadata": {},
   "source": [
    "The notebook seems to be focused on illustrating various concepts related to statistical hypothesis testing and multiple testing correction using Python. It starts by generating synthetic data, performing t-tests, and demonstrating concepts like family-wise error rate, Bonferroni correction, Holm's correction, Benjamini-Hochberg correction, and a re-sampling approach for hypothesis testing."
   ]
  },
  {
   "cell_type": "markdown",
   "id": "3800af24-a2b1-4d92-b43a-5896ccfeef82",
   "metadata": {},
   "source": [
    "### Preconditions and Dependencies: "
   ]
  },
  {
   "cell_type": "markdown",
   "id": "b25deafc-7998-487d-9c6a-990866b9d02d",
   "metadata": {},
   "source": [
    "The code assumes that you have imported necessary libraries like numpy, pandas, matplotlib, statsmodels, and scipy.stats. Additionally, there is a reference to ISLP which could be a custom module or external data source for loading data."
   ]
  },
  {
   "cell_type": "markdown",
   "id": "e17d149c-82f1-405d-8840-b13b190a84c6",
   "metadata": {},
   "source": [
    "### Dataset Used: "
   ]
  },
  {
   "cell_type": "markdown",
   "id": "4c9b1a2a-2704-4400-93de-e39a55d5b903",
   "metadata": {},
   "source": [
    "The code generates synthetic data (X) and also uses a dataset named \"[Fund](https://islp.readthedocs.io/en/latest/datasets/Fund.html)\" and \"[Khan](https://islp.readthedocs.io/en/latest/datasets/Khan.html)\". \"Fund\" dataset is used for various hypothesis testing scenarios, and \"Khan\" dataset is used for a re-sampling approach in hypothesis testing."
   ]
  },
  {
   "cell_type": "markdown",
   "id": "f2a8bee9-434b-4f2e-9282-5160a46ada68",
   "metadata": {},
   "source": [
    "### Explanation of Code:"
   ]
  },
  {
   "cell_type": "markdown",
   "id": "b59d62a1-a788-4904-b6c8-d84d2fe158f8",
   "metadata": {},
   "source": [
    "1. It starts by generating synthetic data and calculating p-values from t-tests on each column of the data (X).\n",
    "2. It categorizes the results of the t-tests into 'Reject H0' or 'Do not reject H0' based on a significance level of 0.05.\n",
    "3. It demonstrates the family-wise error rate using visualizations.\n",
    "4. It performs t-tests, Bonferroni correction, Holm's correction, and Benjamini-Hochberg correction on a subset of the \"Fund\" dataset.\n",
    "5. It calculates and displays the mean of the \"fund_mini\" dataset.\n",
    "6. It performs a paired t-test between two columns of the \"fund_mini\" dataset.\n",
    "7. It calculates q-values and analyzes the results using Benjamini-Hochberg correction.\n",
    "8. It conducts a re-sampling approach for hypothesis testing between two subsets of the \"Khan\" dataset."
   ]
  },
  {
   "cell_type": "code",
   "execution_count": 1,
   "id": "44399e13-af77-43d0-825d-576de4994f67",
   "metadata": {},
   "outputs": [],
   "source": [
    "import numpy as np\n",
    "import pandas as pd\n",
    "import matplotlib.pyplot as plt\n",
    "import statsmodels.api as sm \n",
    "from ISLP import load_data"
   ]
  },
  {
   "cell_type": "code",
   "execution_count": 2,
   "id": "6b63acf6-acc1-48b1-b2f0-940fd3b7e599",
   "metadata": {},
   "outputs": [],
   "source": [
    "from scipy.stats import (ttest_1samp , ttest_rel , ttest_ind , t as t_dbn)\n",
    "from statsmodels.stats.multitest import multipletests as mult_test"
   ]
  },
  {
   "cell_type": "markdown",
   "id": "90d73939-bf1e-45b7-9683-601de458ea8d",
   "metadata": {},
   "source": [
    "- **ttest_1samp :** Perform one-sample t-test\n",
    "- **ttest_rel :** Perform two-sample t-test, comparing means of two related samples\n",
    "- **ttest_ind :** Perform two-sample t-test, comparing means of two independent samples\n",
    "- **t_dbn :** t-distribution"
   ]
  },
  {
   "cell_type": "markdown",
   "id": "f784d4f4-1730-471a-ba84-06a7ee6c83d0",
   "metadata": {},
   "source": [
    "Performing some one-sample t-tests by creating 100 variables, each consisting of 10 observations. \n",
    "The first 50 variables have mean 0.5 and variance 1, while the others have mean 0 and variance 1."
   ]
  },
  {
   "cell_type": "code",
   "execution_count": 3,
   "id": "f4445ba8-b58d-4361-8c65-291e4a5a38fc",
   "metadata": {},
   "outputs": [],
   "source": [
    "rng = np.random.default_rng(12)\n",
    "\n",
    "X = rng.standard_normal((10, 100)) \n",
    "\n",
    "true_mean = np.array([0.5]*50 + [0]*50) \n",
    "X += true_mean[None,:]"
   ]
  },
  {
   "cell_type": "code",
   "execution_count": 4,
   "id": "aaf81840-cb39-41fa-8640-6ae2608cffa6",
   "metadata": {},
   "outputs": [
    {
     "data": {
      "text/plain": [
       "0.9307442156164141"
      ]
     },
     "execution_count": 4,
     "metadata": {},
     "output_type": "execute_result"
    }
   ],
   "source": [
    "result = ttest_1samp(X[:,0], 0)\n",
    "result.pvalue"
   ]
  },
  {
   "cell_type": "code",
   "execution_count": 5,
   "id": "560816ca-b9e0-4711-be66-3845f3e4aafc",
   "metadata": {},
   "outputs": [],
   "source": [
    "p_values = np.empty(100) \n",
    "\n",
    "for i in range(100):\n",
    "    p_values[i] = ttest_1samp(X[:,i], 0).pvalue \n",
    "    \n",
    "decision = pd.cut(p_values, [0, 0.05, 1], labels=['Reject H0','Do not reject H0']) \n",
    "truth = pd.Categorical(true_mean == 0, categories=[True, False], ordered=True)"
   ]
  },
  {
   "cell_type": "code",
   "execution_count": 6,
   "id": "0d2ba5fe-4485-4760-bfd8-66085b9b24a4",
   "metadata": {},
   "outputs": [
    {
     "data": {
      "text/html": [
       "<div>\n",
       "<style scoped>\n",
       "    .dataframe tbody tr th:only-of-type {\n",
       "        vertical-align: middle;\n",
       "    }\n",
       "\n",
       "    .dataframe tbody tr th {\n",
       "        vertical-align: top;\n",
       "    }\n",
       "\n",
       "    .dataframe thead th {\n",
       "        text-align: right;\n",
       "    }\n",
       "</style>\n",
       "<table border=\"1\" class=\"dataframe\">\n",
       "  <thead>\n",
       "    <tr style=\"text-align: right;\">\n",
       "      <th>H0</th>\n",
       "      <th>True</th>\n",
       "      <th>False</th>\n",
       "    </tr>\n",
       "    <tr>\n",
       "      <th>Decision</th>\n",
       "      <th></th>\n",
       "      <th></th>\n",
       "    </tr>\n",
       "  </thead>\n",
       "  <tbody>\n",
       "    <tr>\n",
       "      <th>Reject H0</th>\n",
       "      <td>5</td>\n",
       "      <td>15</td>\n",
       "    </tr>\n",
       "    <tr>\n",
       "      <th>Do not reject H0</th>\n",
       "      <td>45</td>\n",
       "      <td>35</td>\n",
       "    </tr>\n",
       "  </tbody>\n",
       "</table>\n",
       "</div>"
      ],
      "text/plain": [
       "H0                True  False\n",
       "Decision                     \n",
       "Reject H0            5     15\n",
       "Do not reject H0    45     35"
      ]
     },
     "execution_count": 6,
     "metadata": {},
     "output_type": "execute_result"
    }
   ],
   "source": [
    "pd.crosstab(decision, truth , rownames=['Decision'], colnames=['H0'])"
   ]
  },
  {
   "cell_type": "markdown",
   "id": "48b59c1a-6cd9-456b-83b9-f9ba87c899a2",
   "metadata": {},
   "source": [
    "<div style=\"background-color: #FFD700; color: black; padding: 10px; font-size: 20px; text-align: center;\">\n",
    "    Family-Wise Error Rate\n",
    "</div>"
   ]
  },
  {
   "cell_type": "code",
   "execution_count": 7,
   "id": "ce87ca30-cc17-44cd-ba0f-9102090b8094",
   "metadata": {},
   "outputs": [
    {
     "data": {
      "image/png": "[encoded data removed]",
      "text/plain": [
       "<Figure size 640x480 with 1 Axes>"
      ]
     },
     "metadata": {},
     "output_type": "display_data"
    }
   ],
   "source": [
    "m = np.linspace(1, 501) \n",
    "fig, ax = plt.subplots() \n",
    "[ax.plot(m, 1 - (1 - alpha)**m, label=r'$\\alpha=%s$' % str(alpha)) for alpha in [0.05, 0.01, 0.001]]\n",
    "\n",
    "ax.set_xscale('log') \n",
    "ax.set_xlabel('Number of Hypotheses') \n",
    "ax.set_ylabel('Family-Wise Error Rate') \n",
    "ax.legend()\n",
    "ax.axhline(0.05, c='k', ls='--');"
   ]
  },
  {
   "cell_type": "code",
   "execution_count": 8,
   "id": "58863d5e-a440-402f-aaf9-88d963153caa",
   "metadata": {},
   "outputs": [
    {
     "data": {
      "text/plain": [
       "array([0.00620236, 0.91827115, 0.01160098, 0.6005396 , 0.75578151])"
      ]
     },
     "execution_count": 8,
     "metadata": {},
     "output_type": "execute_result"
    }
   ],
   "source": [
    "Fund = load_data('Fund') \n",
    "fund_mini = Fund.iloc[:,:5] \n",
    "fund_mini_pvals = np.empty(5) \n",
    "for i in range (5):\n",
    "    fund_mini_pvals[i] = ttest_1samp(fund_mini.iloc[:,i], 0).pvalue \n",
    "fund_mini_pvals"
   ]
  },
  {
   "cell_type": "markdown",
   "id": "5f997071-e73b-409e-b091-020e9486ade5",
   "metadata": {},
   "source": [
    "<div style=\"background-color: #FFD700; color: black; padding: 10px; font-size: 20px; text-align: center;\">\n",
    "    Bonferroni Correction Method\n",
    "</div>"
   ]
  },
  {
   "cell_type": "code",
   "execution_count": 9,
   "id": "db5279e8-a6f3-41fc-830e-296122ba0b13",
   "metadata": {},
   "outputs": [
    {
     "data": {
      "text/plain": [
       "array([ True, False, False, False, False])"
      ]
     },
     "execution_count": 9,
     "metadata": {},
     "output_type": "execute_result"
    }
   ],
   "source": [
    "reject, bonf_pvalues = mult_test(fund_mini_pvals, method = \"bonferroni\", alpha=0.05)[:2] \n",
    "reject"
   ]
  },
  {
   "cell_type": "markdown",
   "id": "14af7437-6cc5-4094-bf93-0c31e77112ac",
   "metadata": {},
   "source": [
    "<div style=\"background-color: #FFD700; color: black; padding: 10px; font-size: 20px; text-align: center;\">\n",
    "    Holm's Correction Method\n",
    "</div>"
   ]
  },
  {
   "cell_type": "code",
   "execution_count": 10,
   "id": "1c8125c8-5af6-47e6-8e3d-0dd9668abf27",
   "metadata": {},
   "outputs": [
    {
     "data": {
      "text/plain": [
       "array([ True, False,  True, False, False])"
      ]
     },
     "execution_count": 10,
     "metadata": {},
     "output_type": "execute_result"
    }
   ],
   "source": [
    "reject, holm_pvalues = mult_test(fund_mini_pvals, method = \"holm\", alpha=0.05)[:2]\n",
    "reject"
   ]
  },
  {
   "cell_type": "code",
   "execution_count": 11,
   "id": "b6370d73-3b3a-4f0d-b627-47d8c6bd424b",
   "metadata": {},
   "outputs": [
    {
     "name": "stdout",
     "output_type": "stream",
     "text": [
      "Manager1    3.0\n",
      "Manager2   -0.1\n",
      "Manager3    2.8\n",
      "Manager4    0.5\n",
      "Manager5    0.3\n",
      "dtype: float64\n"
     ]
    },
    {
     "data": {
      "text/plain": [
       "0.038391072368079586"
      ]
     },
     "execution_count": 11,
     "metadata": {},
     "output_type": "execute_result"
    }
   ],
   "source": [
    "print(fund_mini.mean())\n",
    "\n",
    "ttest_rel(fund_mini['Manager1'],fund_mini['Manager2']).pvalue"
   ]
  },
  {
   "cell_type": "markdown",
   "id": "362fe957-25db-4b82-86a4-ea446eeb1a4c",
   "metadata": {},
   "source": [
    "<div style=\"background-color: #FFD700; color: black; padding: 10px; font-size: 20px; text-align: center;\">\n",
    "    Benjamini-Hochberg Correction Method\n",
    "</div>"
   ]
  },
  {
   "cell_type": "code",
   "execution_count": 12,
   "id": "7fcbb5df-cf31-4c25-8755-2a4792cb030c",
   "metadata": {},
   "outputs": [],
   "source": [
    "fund_pvalues = np.empty(2000)\n",
    "for i, manager in enumerate(Fund.columns):\n",
    "    fund_pvalues[i] = ttest_1samp(Fund[manager], 0).pvalue"
   ]
  },
  {
   "cell_type": "code",
   "execution_count": 13,
   "id": "b8783957-8809-4d5e-8c04-1145edd6df80",
   "metadata": {},
   "outputs": [
    {
     "data": {
      "text/plain": [
       "array([0.08988921, 0.991491  , 0.12211561, 0.92342997, 0.95603587,\n",
       "       0.07513802, 0.0767015 , 0.07513802, 0.07513802, 0.07513802])"
      ]
     },
     "execution_count": 13,
     "metadata": {},
     "output_type": "execute_result"
    }
   ],
   "source": [
    "fund_qvalues = mult_test(fund_pvalues , method = \"fdr_bh\")[1] \n",
    "fund_qvalues [:10]"
   ]
  },
  {
   "cell_type": "code",
   "execution_count": 14,
   "id": "e5ea827a-7408-4cc3-91df-98e69ed3b8e8",
   "metadata": {},
   "outputs": [
    {
     "data": {
      "text/plain": [
       "146"
      ]
     },
     "execution_count": 14,
     "metadata": {},
     "output_type": "execute_result"
    }
   ],
   "source": [
    "(fund_qvalues <= 0.1).sum()"
   ]
  },
  {
   "cell_type": "code",
   "execution_count": 15,
   "id": "d4c2b75d-e935-4951-92d0-95863fa4f140",
   "metadata": {},
   "outputs": [
    {
     "data": {
      "text/plain": [
       "0"
      ]
     },
     "execution_count": 15,
     "metadata": {},
     "output_type": "execute_result"
    }
   ],
   "source": [
    "(fund_pvalues <= 0.1 / 2000).sum()"
   ]
  },
  {
   "cell_type": "code",
   "execution_count": 16,
   "id": "293156d7-fe63-43b8-9bea-8cdb47171085",
   "metadata": {},
   "outputs": [],
   "source": [
    "sorted_ = np.sort(fund_pvalues) \n",
    "m = fund_pvalues.shape[0]\n",
    "q = 0.1\n",
    "sorted_set_ = np.where(sorted_ < q * np.linspace(1, m, m) / m)[0] \n",
    "if sorted_set_.shape[0] > 0:\n",
    "    selected_ = fund_pvalues < sorted_[sorted_set_].max()\n",
    "    sorted_set_ = np.arange(sorted_set_.max()) \n",
    "else:\n",
    "    selected_ = [] \n",
    "    sorted_set_ = []"
   ]
  },
  {
   "cell_type": "code",
   "execution_count": 17,
   "id": "e7913656-6bd2-462d-9957-1a96ede17c90",
   "metadata": {},
   "outputs": [
    {
     "data": {
      "image/png": "[encoded data removed]",
      "text/plain": [
       "<Figure size 640x480 with 1 Axes>"
      ]
     },
     "metadata": {},
     "output_type": "display_data"
    }
   ],
   "source": [
    "fig, ax = plt.subplots()\n",
    "ax.scatter(np.arange(0, sorted_.shape[0]) + 1, sorted_, s=10)\n",
    "ax.set_yscale('log')\n",
    "ax.set_xscale('log') \n",
    "ax.set_ylabel('P-Value') \n",
    "ax.set_xlabel('Index')\n",
    "ax.scatter(sorted_set_+1, sorted_[sorted_set_], c='r', s=20) \n",
    "ax.axline((0, 0), (1,q/m), c='k', ls='--', linewidth=3);"
   ]
  },
  {
   "cell_type": "markdown",
   "id": "435347f5-b3b2-42f9-be56-3b1944acbe2f",
   "metadata": {},
   "source": [
    "<div style=\"background-color: #FFD700; color: black; padding: 10px; font-size: 20px; text-align: center;\">\n",
    "    A Re-Sampling Approach\n",
    "</div>"
   ]
  },
  {
   "cell_type": "code",
   "execution_count": 18,
   "id": "238b01d4-1a62-45f7-bbb1-c6a4ef2ed042",
   "metadata": {},
   "outputs": [
    {
     "data": {
      "text/plain": [
       "Y\n",
       "2    29\n",
       "4    25\n",
       "3    18\n",
       "1    11\n",
       "Name: count, dtype: int64"
      ]
     },
     "execution_count": 18,
     "metadata": {},
     "output_type": "execute_result"
    }
   ],
   "source": [
    "Khan = load_data('Khan')\n",
    "D = pd.concat([Khan['xtrain'], Khan['xtest']])\n",
    "D['Y'] = pd.concat([Khan['ytrain'], Khan['ytest']]) \n",
    "D['Y'].value_counts()"
   ]
  },
  {
   "cell_type": "code",
   "execution_count": 19,
   "id": "e9463a3d-1714-4df1-842b-a2f502b8a203",
   "metadata": {},
   "outputs": [
    {
     "data": {
      "text/plain": [
       "(-2.0936330736768185, 0.04118643782678394)"
      ]
     },
     "execution_count": 19,
     "metadata": {},
     "output_type": "execute_result"
    }
   ],
   "source": [
    "D2 = D[lambda df:df['Y'] == 2]\n",
    "D4 = D[lambda df:df['Y'] == 4]\n",
    "gene_11 = 'G0011'\n",
    "observedT, pvalue = ttest_ind(D2[gene_11], D4[gene_11], equal_var=True)\n",
    "observedT, pvalue"
   ]
  },
  {
   "cell_type": "code",
   "execution_count": 20,
   "id": "39fe0482-82c0-4a49-8da8-877975b4834f",
   "metadata": {},
   "outputs": [
    {
     "data": {
      "text/plain": [
       "0.0404"
      ]
     },
     "execution_count": 20,
     "metadata": {},
     "output_type": "execute_result"
    }
   ],
   "source": [
    "B = 10000\n",
    "Tnull = np.empty(B)\n",
    "\n",
    "D_ = np.hstack([D2[gene_11], D4[gene_11]]) \n",
    "n_ = D2[gene_11].shape[0]\n",
    "D_null = D_.copy()\n",
    "\n",
    "for b in range(B):\n",
    "    rng.shuffle(D_null)\n",
    "    ttest_ = ttest_ind(D_null[:n_], D_null[n_:], equal_var=True)\n",
    "    Tnull[b] = ttest_.statistic \n",
    "    \n",
    "(np.abs(Tnull) > np.abs(observedT)).mean()"
   ]
  },
  {
   "cell_type": "markdown",
   "id": "36a1f208-0a73-4648-9fa5-30f384f24446",
   "metadata": {},
   "source": [
    "- Without shuffling data,  pvalue = 0.0411\n",
    "- with re-shuffling data, pvalue = 0.0393"
   ]
  },
  {
   "cell_type": "code",
   "execution_count": 21,
   "id": "56e92ef6-ff38-4ab4-8aa1-dc02e28f0017",
   "metadata": {},
   "outputs": [
    {
     "data": {
      "image/png": "[encoded data removed]",
      "text/plain": [
       "<Figure size 800x400 with 1 Axes>"
      ]
     },
     "metadata": {},
     "output_type": "display_data"
    }
   ],
   "source": [
    "fig, ax = plt.subplots(figsize=(8,4)) \n",
    "ax.hist(Tnull, bins=100, density=True, facecolor='y', label='Null')\n",
    "xval = np.linspace(-4.2, 4.2, 1001)\n",
    "ax.plot(xval, t_dbn.pdf(xval, D_.shape[0]-2), c='r') \n",
    "ax.axvline(observedT, c='b', label='Observed') \n",
    "ax.legend()\n",
    "ax.set_xlabel(\"Null Distribution of Test Statistic\");"
   ]
  }
 ],
 "metadata": {
  "kernelspec": {
   "display_name": "Python 3 (ipykernel)",
   "language": "python",
   "name": "python3"
  },
  "language_info": {
   "codemirror_mode": {
    "name": "ipython",
    "version": 3
   },
   "file_extension": ".py",
   "mimetype": "text/x-python",
   "name": "python",
   "nbconvert_exporter": "python",
   "pygments_lexer": "ipython3",
   "version": "3.10.12"
  }
 },
 "nbformat": 4,
 "nbformat_minor": 5
}
